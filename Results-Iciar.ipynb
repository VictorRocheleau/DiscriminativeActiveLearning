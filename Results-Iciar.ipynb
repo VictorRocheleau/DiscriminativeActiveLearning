{
 "cells": [
  {
   "cell_type": "code",
   "execution_count": 1,
   "metadata": {},
   "outputs": [],
   "source": [
    "import matplotlib.pyplot as plt\n",
    "import numpy as np\n",
    "import pickle as pkl\n",
    "import os\n",
    "from pathlib import Path"
   ]
  },
  {
   "cell_type": "code",
   "execution_count": 2,
   "metadata": {},
   "outputs": [],
   "source": [
    "base_url = 'out/exp_iciar/results/'"
   ]
  },
  {
   "cell_type": "code",
   "execution_count": 3,
   "metadata": {},
   "outputs": [],
   "source": [
    "def filter_random(file):\n",
    "    name = file.name\n",
    "    if 'Random' in name and 'entropy' not in name:\n",
    "        return True\n",
    "    else:\n",
    "        return False"
   ]
  },
  {
   "cell_type": "code",
   "execution_count": 4,
   "metadata": {},
   "outputs": [],
   "source": [
    "def filter_coreset(file):\n",
    "    name = file.name\n",
    "    if 'CoreSet' in name and 'entropy' not in name:\n",
    "        return True\n",
    "    else:\n",
    "        return False"
   ]
  },
  {
   "cell_type": "code",
   "execution_count": 5,
   "metadata": {},
   "outputs": [],
   "source": [
    "def filter_bayesian(file):\n",
    "    name = file.name\n",
    "    if 'Bayesian' in name and 'entropy' not in name:\n",
    "        return True\n",
    "    else:\n",
    "        return False"
   ]
  },
  {
   "cell_type": "code",
   "execution_count": 6,
   "metadata": {},
   "outputs": [],
   "source": [
    "def filter_uncertainty(file):\n",
    "    name = file.name\n",
    "    if 'Uncertainty' in name and 'entropy' not in name:\n",
    "        return True\n",
    "    else:\n",
    "        return False"
   ]
  },
  {
   "cell_type": "code",
   "execution_count": 7,
   "metadata": {},
   "outputs": [
    {
     "data": {
      "text/plain": [
       "([PosixPath('out/exp_iciar/results/Random_iciar_400_400_0.pkl'),\n",
       "  PosixPath('out/exp_iciar/results/Random_iciar_400_400_1.pkl'),\n",
       "  PosixPath('out/exp_iciar/results/Random_iciar_399_400_4.pkl'),\n",
       "  PosixPath('out/exp_iciar/results/Random_iciar_399_400_3.pkl'),\n",
       "  PosixPath('out/exp_iciar/results/Random_iciar_400_400_2.pkl')],\n",
       " [PosixPath('out/exp_iciar/results/Bayesian_iciar_399_400_2.pkl'),\n",
       "  PosixPath('out/exp_iciar/results/Bayesian_iciar_399_400_0.pkl'),\n",
       "  PosixPath('out/exp_iciar/results/Bayesian_iciar_399_400_3.pkl'),\n",
       "  PosixPath('out/exp_iciar/results/Bayesian_iciar_399_400_1.pkl'),\n",
       "  PosixPath('out/exp_iciar/results/Bayesian_iciar_399_400_4.pkl')],\n",
       " [PosixPath('out/exp_iciar/results/CoreSet_iciar_400_400_2.pkl'),\n",
       "  PosixPath('out/exp_iciar/results/CoreSet_iciar_400_400_1.pkl'),\n",
       "  PosixPath('out/exp_iciar/results/CoreSet_iciar_399_400_3.pkl'),\n",
       "  PosixPath('out/exp_iciar/results/CoreSet_iciar_399_400_4.pkl'),\n",
       "  PosixPath('out/exp_iciar/results/CoreSet_iciar_400_400_0.pkl')],\n",
       " [])"
      ]
     },
     "execution_count": 7,
     "metadata": {},
     "output_type": "execute_result"
    }
   ],
   "source": [
    "all_files = list(Path(base_url).glob('*.pkl'))\n",
    "random_files = list(filter(filter_random, all_files))\n",
    "bayesian_files = list(filter(filter_bayesian, all_files))\n",
    "coreset_files = list(filter(filter_coreset, all_files))\n",
    "uncertainty_files = list(filter(filter_uncertainty, all_files))\n",
    "random_files, bayesian_files, coreset_files, uncertainty_files"
   ]
  },
  {
   "cell_type": "code",
   "execution_count": 8,
   "metadata": {},
   "outputs": [],
   "source": [
    "random_results = np.asarray([pkl.load(open(file, 'rb'))[0] for file in random_files])\n",
    "bayesian_results = np.asarray([pkl.load(open(file, 'rb'))[0] for file in bayesian_files])\n",
    "coreset_results = np.asarray([pkl.load(open(file, 'rb'))[0] for file in coreset_files])\n",
    "uncertainty_results = np.asarray([pkl.load(open(file, 'rb'))[0] for file in uncertainty_files])"
   ]
  },
  {
   "cell_type": "code",
   "execution_count": 9,
   "metadata": {},
   "outputs": [
    {
     "name": "stderr",
     "output_type": "stream",
     "text": [
      "/home/ens/AM90950/anaconda3/envs/discri/lib/python3.7/site-packages/ipykernel_launcher.py:4: RuntimeWarning: Mean of empty slice.\n",
      "  after removing the cwd from sys.path.\n",
      "/home/ens/AM90950/anaconda3/envs/discri/lib/python3.7/site-packages/numpy/core/_methods.py:161: RuntimeWarning: invalid value encountered in double_scalars\n",
      "  ret = ret.dtype.type(ret / rcount)\n"
     ]
    },
    {
     "data": {
      "text/plain": [
       "(array([0.35575   , 0.4175    , 0.453     , 0.52900001, 0.55274999,\n",
       "        0.55225   , 0.58399999, 0.5775    ]),\n",
       " array([0.32575   , 0.39725   , 0.4715    , 0.53025001, 0.54175001,\n",
       "        0.54875   , 0.5625    , 0.57975   ]),\n",
       " array([0.3525    , 0.39175   , 0.46225001, 0.50375   , 0.57750001,\n",
       "        0.56925   , 0.58449999, 0.58149999]),\n",
       " nan)"
      ]
     },
     "execution_count": 9,
     "metadata": {},
     "output_type": "execute_result"
    }
   ],
   "source": [
    "random_mean = random_results.mean(axis=0)\n",
    "bayesian_mean = bayesian_results.mean(axis=0)\n",
    "coreset_mean = coreset_results.mean(axis=0)\n",
    "unceratinty_mean = uncertainty_results.mean(axis=0)\n",
    "random_mean, bayesian_mean, coreset_mean, unceratinty_mean"
   ]
  },
  {
   "cell_type": "code",
   "execution_count": 12,
   "metadata": {},
   "outputs": [
    {
     "data": {
      "text/plain": [
       "range(0, 8)"
      ]
     },
     "execution_count": 12,
     "metadata": {},
     "output_type": "execute_result"
    }
   ],
   "source": [
    "range(random_mean.shape[0])"
   ]
  },
  {
   "cell_type": "code",
   "execution_count": 13,
   "metadata": {},
   "outputs": [],
   "source": [
    "# labels_list = (np.asarray([1000, 2000, 3000, 4000, 5000, 6000, 7000])/7000)*100\n",
    "labels_list = (np.asarray([400, 800, 1200, 1800, 2200, 2600, 3000, 3400])/3400)*100"
   ]
  },
  {
   "cell_type": "code",
   "execution_count": 14,
   "metadata": {},
   "outputs": [
    {
     "data": {
      "text/plain": [
       "<matplotlib.legend.Legend at 0x7fafca4d05f8>"
      ]
     },
     "execution_count": 14,
     "metadata": {},
     "output_type": "execute_result"
    },
    {
     "data": {
      "image/png": "[encoded data removed]",
      "text/plain": [
       "<Figure size 432x288 with 1 Axes>"
      ]
     },
     "metadata": {
      "needs_background": "light"
     },
     "output_type": "display_data"
    }
   ],
   "source": [
    "plt.figure()\n",
    "plt.plot(labels_list, random_mean, 'r', label= 'Random')\n",
    "plt.plot(labels_list, bayesian_mean, 'b', label='Bayesian')\n",
    "plt.plot(labels_list, coreset_mean, 'c', label='CoreSet')\n",
    "# plt.plot(labels_list, unceratinty_mean, 'g', label='Uncertainty')\n",
    "plt.ylabel('Accuracy')\n",
    "plt.xlabel('Labeled pool size %')\n",
    "plt.legend()"
   ]
  },
  {
   "cell_type": "code",
   "execution_count": null,
   "metadata": {},
   "outputs": [],
   "source": []
  }
 ],
 "metadata": {
  "kernelspec": {
   "display_name": "Python 3",
   "language": "python",
   "name": "python3"
  },
  "language_info": {
   "codemirror_mode": {
    "name": "ipython",
    "version": 3
   },
   "file_extension": ".py",
   "mimetype": "text/x-python",
   "name": "python",
   "nbconvert_exporter": "python",
   "pygments_lexer": "ipython3",
   "version": "3.7.0"
  }
 },
 "nbformat": 4,
 "nbformat_minor": 4
}
