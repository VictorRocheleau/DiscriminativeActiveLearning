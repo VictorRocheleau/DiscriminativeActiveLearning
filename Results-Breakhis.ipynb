{
 "cells": [
  {
   "cell_type": "code",
   "execution_count": 1,
   "metadata": {},
   "outputs": [],
   "source": [
    "import matplotlib.pyplot as plt\n",
    "import numpy as np\n",
    "import pickle as pkl\n",
    "import os\n",
    "from pathlib import Path"
   ]
  },
  {
   "cell_type": "code",
   "execution_count": 2,
   "metadata": {},
   "outputs": [],
   "source": [
    "base_url = 'out/exp_aug_200/results/'\n",
    "# base_url = 'out/exp_break_300_init/results/'\n",
    "# base_url = 'out/exp_break_intit_2000/results/'\n",
    "# base_url = 'out/exp_iciar_1000_init/results/'"
   ]
  },
  {
   "cell_type": "code",
   "execution_count": 3,
   "metadata": {},
   "outputs": [],
   "source": [
    "baseline_path = 'out/exp_break_baseline/results/'"
   ]
  },
  {
   "cell_type": "code",
   "execution_count": 4,
   "metadata": {},
   "outputs": [],
   "source": [
    "def filter_random(file):\n",
    "    name = file.name\n",
    "    if 'Random' in name and 'entropy' not in name:\n",
    "        return True\n",
    "    else:\n",
    "        return False"
   ]
  },
  {
   "cell_type": "code",
   "execution_count": 5,
   "metadata": {},
   "outputs": [],
   "source": [
    "def filter_coreset(file):\n",
    "    name = file.name\n",
    "    if 'CoreSet' in name and 'entropy' not in name:\n",
    "        return True\n",
    "    else:\n",
    "        return False"
   ]
  },
  {
   "cell_type": "code",
   "execution_count": 6,
   "metadata": {},
   "outputs": [],
   "source": [
    "def filter_bayesian(file):\n",
    "    name = file.name\n",
    "    if 'Bayesian' in name and 'entropy' not in name:\n",
    "        return True\n",
    "    else:\n",
    "        return False"
   ]
  },
  {
   "cell_type": "code",
   "execution_count": 7,
   "metadata": {},
   "outputs": [],
   "source": [
    "def filter_uncertainty(file):\n",
    "    name = file.name\n",
    "    if 'Uncertainty' in name and 'entropy' not in name:\n",
    "        return True\n",
    "    else:\n",
    "        return False"
   ]
  },
  {
   "cell_type": "code",
   "execution_count": 8,
   "metadata": {},
   "outputs": [
    {
     "data": {
      "text/plain": [
       "([PosixPath('out/exp_aug_200/results/Random_breakhis_1000_1000_1.pkl'),\n",
       "  PosixPath('out/exp_aug_200/results/Random_breakhis_1000_1000_2.pkl'),\n",
       "  PosixPath('out/exp_aug_200/results/Random_breakhis_1000_1000_0.pkl'),\n",
       "  PosixPath('out/exp_aug_200/results/Random_breakhis_1000_1000_4.pkl'),\n",
       "  PosixPath('out/exp_aug_200/results/Random_breakhis_1000_1000_3.pkl')],\n",
       " [PosixPath('out/exp_aug_200/results/Bayesian_breakhis_1000_1000_1.pkl'),\n",
       "  PosixPath('out/exp_aug_200/results/Bayesian_breakhis_1000_1000_4.pkl'),\n",
       "  PosixPath('out/exp_aug_200/results/Bayesian_breakhis_1000_1000_3.pkl'),\n",
       "  PosixPath('out/exp_aug_200/results/Bayesian_breakhis_1000_1000_0.pkl'),\n",
       "  PosixPath('out/exp_aug_200/results/Bayesian_breakhis_1000_1000_2.pkl')],\n",
       " [PosixPath('out/exp_aug_200/results/CoreSet_breakhis_1000_1000_3.pkl'),\n",
       "  PosixPath('out/exp_aug_200/results/CoreSet_breakhis_1000_1000_2.pkl'),\n",
       "  PosixPath('out/exp_aug_200/results/CoreSet_breakhis_1000_1000_4.pkl'),\n",
       "  PosixPath('out/exp_aug_200/results/CoreSet_breakhis_1000_1000_0.pkl'),\n",
       "  PosixPath('out/exp_aug_200/results/CoreSet_breakhis_1000_1000_1.pkl')],\n",
       " [PosixPath('out/exp_aug_200/results/Uncertainty_breakhis_1000_1000_3.pkl'),\n",
       "  PosixPath('out/exp_aug_200/results/Uncertainty_breakhis_1000_1000_0.pkl'),\n",
       "  PosixPath('out/exp_aug_200/results/Uncertainty_breakhis_1000_1000_2.pkl'),\n",
       "  PosixPath('out/exp_aug_200/results/Uncertainty_breakhis_1000_1000_1.pkl'),\n",
       "  PosixPath('out/exp_aug_200/results/Uncertainty_breakhis_1000_1000_4.pkl')])"
      ]
     },
     "execution_count": 8,
     "metadata": {},
     "output_type": "execute_result"
    }
   ],
   "source": [
    "all_files = list(Path(base_url).glob('*.pkl'))\n",
    "random_files = list(filter(filter_random, all_files))\n",
    "bayesian_files = list(filter(filter_bayesian, all_files))\n",
    "coreset_files = list(filter(filter_coreset, all_files))\n",
    "uncertainty_files = list(filter(filter_uncertainty, all_files))\n",
    "random_files, bayesian_files, coreset_files, uncertainty_files"
   ]
  },
  {
   "cell_type": "code",
   "execution_count": 9,
   "metadata": {},
   "outputs": [
    {
     "data": {
      "text/plain": [
       "[PosixPath('out/exp_break_baseline/results/Random_breakhis_8050_1_4.pkl'),\n",
       " PosixPath('out/exp_break_baseline/results/Random_breakhis_8050_1_2.pkl'),\n",
       " PosixPath('out/exp_break_baseline/results/Random_breakhis_8050_1_1.pkl'),\n",
       " PosixPath('out/exp_break_baseline/results/Random_breakhis_8050_1_3.pkl'),\n",
       " PosixPath('out/exp_break_baseline/results/Random_breakhis_8050_1_0.pkl')]"
      ]
     },
     "execution_count": 9,
     "metadata": {},
     "output_type": "execute_result"
    }
   ],
   "source": [
    "baselines = list(Path(baseline_path).glob('*.pkl'))\n",
    "baselines = list(filter(filter_random, baselines))\n",
    "baselines"
   ]
  },
  {
   "cell_type": "code",
   "execution_count": 10,
   "metadata": {},
   "outputs": [],
   "source": [
    "random_results = np.asarray([pkl.load(open(file, 'rb'))[0] for file in random_files])\n",
    "bayesian_results = np.asarray([pkl.load(open(file, 'rb'))[0] for file in bayesian_files])\n",
    "coreset_results = np.asarray([pkl.load(open(file, 'rb'))[0] for file in coreset_files])\n",
    "uncertainty_results = np.asarray([pkl.load(open(file, 'rb'))[0] for file in uncertainty_files])"
   ]
  },
  {
   "cell_type": "code",
   "execution_count": 11,
   "metadata": {},
   "outputs": [
    {
     "data": {
      "text/plain": [
       "(array([[0.93052107],\n",
       "        [0.90074444],\n",
       "        [0.93796527],\n",
       "        [0.9260546 ],\n",
       "        [0.92506206]]),\n",
       " 0.9240694880485535,\n",
       " 0.9379652738571167)"
      ]
     },
     "execution_count": 11,
     "metadata": {},
     "output_type": "execute_result"
    }
   ],
   "source": [
    "baseline = np.asarray([pkl.load(open(file, 'rb'))[0] for file in baselines])\n",
    "baseline, baseline.mean(), baseline.max()"
   ]
  },
  {
   "cell_type": "code",
   "execution_count": 12,
   "metadata": {},
   "outputs": [
    {
     "data": {
      "text/plain": [
       "5"
      ]
     },
     "execution_count": 12,
     "metadata": {},
     "output_type": "execute_result"
    }
   ],
   "source": [
    "len(bayesian_results)"
   ]
  },
  {
   "cell_type": "code",
   "execution_count": 13,
   "metadata": {},
   "outputs": [
    {
     "data": {
      "text/plain": [
       "(array([0.8330521 , 0.86630273, 0.89062035, 0.92148885, 0.92138958,\n",
       "        0.91652604, 0.93240694]),\n",
       " array([0.83632753, 0.8798015 , 0.91751862, 0.92476425, 0.9314144 ,\n",
       "        0.93607941, 0.92982631]),\n",
       " array([0.85697269, 0.8648139 , 0.9014392 , 0.91791563, 0.93091811,\n",
       "        0.92754341, 0.93062034]),\n",
       " array([0.84248139, 0.86302729, 0.90888337, 0.92595533, 0.92863523,\n",
       "        0.92486353, 0.93121589]))"
      ]
     },
     "execution_count": 13,
     "metadata": {},
     "output_type": "execute_result"
    }
   ],
   "source": [
    "random_mean = random_results.mean(axis=0)\n",
    "bayesian_mean = bayesian_results.mean(axis=0)\n",
    "coreset_mean = coreset_results.mean(axis=0)\n",
    "unceratinty_mean = uncertainty_results.mean(axis=0)\n",
    "random_mean, bayesian_mean, coreset_mean, unceratinty_mean"
   ]
  },
  {
   "cell_type": "code",
   "execution_count": 14,
   "metadata": {},
   "outputs": [
    {
     "data": {
      "text/plain": [
       "range(0, 7)"
      ]
     },
     "execution_count": 14,
     "metadata": {},
     "output_type": "execute_result"
    }
   ],
   "source": [
    "range(random_mean.shape[0])"
   ]
  },
  {
   "cell_type": "code",
   "execution_count": 22,
   "metadata": {},
   "outputs": [],
   "source": [
    "labels_list = np.array(range(1, 8))*1000"
   ]
  },
  {
   "cell_type": "code",
   "execution_count": 29,
   "metadata": {},
   "outputs": [
    {
     "data": {
      "image/png": "[encoded data removed]",
      "text/plain": [
       "<Figure size 432x288 with 1 Axes>"
      ]
     },
     "metadata": {
      "needs_background": "light"
     },
     "output_type": "display_data"
    }
   ],
   "source": [
    "plt.figure()\n",
    "plt.plot(labels_list, random_mean, '--ro', label= 'Random')\n",
    "plt.plot(labels_list, bayesian_mean, '--bo', label='Bayesian')\n",
    "plt.plot(labels_list, coreset_mean, '--co', label='CoreSet')\n",
    "plt.plot(labels_list, unceratinty_mean, '--go', label='Uncertainty')\n",
    "\n",
    "plt.hlines(baseline[0], labels_list[0], labels_list[-1], label='Baseline')\n",
    "\n",
    "plt.ylim(0.55, 0.95)\n",
    "\n",
    "# plt.title('BreakHis accuracy by labeled pool size')\n",
    "plt.ylabel('Accuracy')\n",
    "plt.xlabel('Labeled pool size')\n",
    "plt.legend()\n",
    "plt.savefig('results_break_1000.png', transparent=True, quality=100)"
   ]
  },
  {
   "cell_type": "code",
   "execution_count": null,
   "metadata": {},
   "outputs": [],
   "source": []
  }
 ],
 "metadata": {
  "kernelspec": {
   "display_name": "Python 3",
   "language": "python",
   "name": "python3"
  },
  "language_info": {
   "codemirror_mode": {
    "name": "ipython",
    "version": 3
   },
   "file_extension": ".py",
   "mimetype": "text/x-python",
   "name": "python",
   "nbconvert_exporter": "python",
   "pygments_lexer": "ipython3",
   "version": "3.7.0"
  }
 },
 "nbformat": 4,
 "nbformat_minor": 4
}
