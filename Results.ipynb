{
 "cells": [
  {
   "cell_type": "code",
   "execution_count": 2,
   "metadata": {},
   "outputs": [],
   "source": [
    "import matplotlib.pyplot as plt\n",
    "import numpy as np\n",
    "import pickle as pkl\n",
    "import os\n",
    "from pathlib import Path"
   ]
  },
  {
   "cell_type": "code",
   "execution_count": 3,
   "metadata": {},
   "outputs": [],
   "source": [
    "base_url = 'out/exp_aug_200/results/'"
   ]
  },
  {
   "cell_type": "code",
   "execution_count": 4,
   "metadata": {},
   "outputs": [],
   "source": [
    "def filter_random(file):\n",
    "    name = file.name\n",
    "    if 'Random' in name and 'entropy' not in name:\n",
    "        return True\n",
    "    else:\n",
    "        return False"
   ]
  },
  {
   "cell_type": "code",
   "execution_count": 5,
   "metadata": {},
   "outputs": [],
   "source": [
    "def filter_coreset(file):\n",
    "    name = file.name\n",
    "    if 'CoreSet' in name and 'entropy' not in name:\n",
    "        return True\n",
    "    else:\n",
    "        return False"
   ]
  },
  {
   "cell_type": "code",
   "execution_count": 6,
   "metadata": {},
   "outputs": [],
   "source": [
    "def filter_bayesian(file):\n",
    "    name = file.name\n",
    "    if 'Bayesian' in name and 'entropy' not in name:\n",
    "        return True\n",
    "    else:\n",
    "        return False"
   ]
  },
  {
   "cell_type": "code",
   "execution_count": 7,
   "metadata": {},
   "outputs": [],
   "source": [
    "def filter_uncertainty(file):\n",
    "    name = file.name\n",
    "    if 'Uncertainty' in name and 'entropy' not in name:\n",
    "        return True\n",
    "    else:\n",
    "        return False"
   ]
  },
  {
   "cell_type": "code",
   "execution_count": 9,
   "metadata": {},
   "outputs": [
    {
     "data": {
      "text/plain": [
       "([PosixPath('out/exp_aug_200/results/Random_breakhis_1000_1000_1.pkl'),\n",
       "  PosixPath('out/exp_aug_200/results/Random_breakhis_1000_1000_2.pkl'),\n",
       "  PosixPath('out/exp_aug_200/results/Random_breakhis_1000_1000_0.pkl'),\n",
       "  PosixPath('out/exp_aug_200/results/Random_breakhis_1000_1000_4.pkl'),\n",
       "  PosixPath('out/exp_aug_200/results/Random_breakhis_1000_1000_3.pkl')],\n",
       " [PosixPath('out/exp_aug_200/results/Bayesian_breakhis_1000_1000_1.pkl'),\n",
       "  PosixPath('out/exp_aug_200/results/Bayesian_breakhis_1000_1000_4.pkl'),\n",
       "  PosixPath('out/exp_aug_200/results/Bayesian_breakhis_1000_1000_3.pkl'),\n",
       "  PosixPath('out/exp_aug_200/results/Bayesian_breakhis_1000_1000_0.pkl'),\n",
       "  PosixPath('out/exp_aug_200/results/Bayesian_breakhis_1000_1000_2.pkl')],\n",
       " [PosixPath('out/exp_aug_200/results/CoreSet_breakhis_1000_1000_3.pkl'),\n",
       "  PosixPath('out/exp_aug_200/results/CoreSet_breakhis_1000_1000_2.pkl'),\n",
       "  PosixPath('out/exp_aug_200/results/CoreSet_breakhis_1000_1000_4.pkl'),\n",
       "  PosixPath('out/exp_aug_200/results/CoreSet_breakhis_1000_1000_0.pkl'),\n",
       "  PosixPath('out/exp_aug_200/results/CoreSet_breakhis_1000_1000_1.pkl')],\n",
       " [PosixPath('out/exp_aug_200/results/Uncertainty_breakhis_1000_1000_3.pkl'),\n",
       "  PosixPath('out/exp_aug_200/results/Uncertainty_breakhis_1000_1000_0.pkl'),\n",
       "  PosixPath('out/exp_aug_200/results/Uncertainty_breakhis_1000_1000_2.pkl'),\n",
       "  PosixPath('out/exp_aug_200/results/Uncertainty_breakhis_1000_1000_1.pkl')])"
      ]
     },
     "execution_count": 9,
     "metadata": {},
     "output_type": "execute_result"
    }
   ],
   "source": [
    "all_files = list(Path(base_url).glob('*.pkl'))\n",
    "random_files = list(filter(filter_random, all_files))\n",
    "bayesian_files = list(filter(filter_bayesian, all_files))\n",
    "coreset_files = list(filter(filter_coreset, all_files))\n",
    "uncertainty_files = list(filter(filter_uncertainty, all_files))\n",
    "random_files, bayesian_files, coreset_files, uncertainty_files"
   ]
  },
  {
   "cell_type": "code",
   "execution_count": 10,
   "metadata": {},
   "outputs": [],
   "source": [
    "random_results = np.asarray([pkl.load(open(file, 'rb'))[0] for file in random_files])\n",
    "bayesian_results = np.asarray([pkl.load(open(file, 'rb'))[0] for file in bayesian_files])\n",
    "coreset_results = np.asarray([pkl.load(open(file, 'rb'))[0] for file in coreset_files])\n",
    "uncertainty_results = np.asarray([pkl.load(open(file, 'rb'))[0] for file in uncertainty_files])"
   ]
  },
  {
   "cell_type": "code",
   "execution_count": 16,
   "metadata": {},
   "outputs": [
    {
     "data": {
      "text/plain": [
       "(array([0.8330521 , 0.86630273, 0.89062035, 0.92148885, 0.92138958,\n",
       "        0.91652604, 0.93240694]),\n",
       " array([0.83632753, 0.8798015 , 0.91751862, 0.92476425, 0.9314144 ,\n",
       "        0.93607941, 0.92982631]),\n",
       " array([0.85697269, 0.8648139 , 0.9014392 , 0.91791563, 0.93091811,\n",
       "        0.92754341, 0.93062034]),\n",
       " array([0.8442928 , 0.86712158, 0.908933  , 0.92506203, 0.92940445,\n",
       "        0.92915633, 0.93200994]))"
      ]
     },
     "execution_count": 16,
     "metadata": {},
     "output_type": "execute_result"
    }
   ],
   "source": [
    "random_mean = random_results.mean(axis=0)\n",
    "bayesian_mean = bayesian_results.mean(axis=0)\n",
    "coreset_mean = coreset_results.mean(axis=0)\n",
    "unceratinty_mean = uncertainty_results.mean(axis=0)\n",
    "random_mean, bayesian_mean, coreset_mean, unceratinty_mean"
   ]
  },
  {
   "cell_type": "code",
   "execution_count": 17,
   "metadata": {},
   "outputs": [
    {
     "data": {
      "text/plain": [
       "range(0, 7)"
      ]
     },
     "execution_count": 17,
     "metadata": {},
     "output_type": "execute_result"
    }
   ],
   "source": [
    "range(random_mean.shape[0])"
   ]
  },
  {
   "cell_type": "code",
   "execution_count": 18,
   "metadata": {},
   "outputs": [],
   "source": [
    "labels_list = [1000, 2000, 3000, 4000, 5000, 6000, 7000]"
   ]
  },
  {
   "cell_type": "code",
   "execution_count": 19,
   "metadata": {},
   "outputs": [
    {
     "data": {
      "text/plain": [
       "<matplotlib.legend.Legend at 0x7f612166ebe0>"
      ]
     },
     "execution_count": 19,
     "metadata": {},
     "output_type": "execute_result"
    },
    {
     "data": {
      "image/png": "[encoded data removed]",
      "text/plain": [
       "<Figure size 432x288 with 1 Axes>"
      ]
     },
     "metadata": {
      "needs_background": "light"
     },
     "output_type": "display_data"
    }
   ],
   "source": [
    "plt.figure()\n",
    "plt.plot(labels_list, random_mean, 'r', label= 'Random')\n",
    "plt.plot(labels_list, bayesian_mean, 'b', label='Bayesian')\n",
    "plt.plot(labels_list, coreset_mean, 'c', label='CoreSet')\n",
    "plt.plot(labels_list, unceratinty_mean, 'g', label='Uncertainty')\n",
    "plt.ylabel('Accuracy')\n",
    "plt.xlabel('Labeled pool size')\n",
    "plt.legend()"
   ]
  },
  {
   "cell_type": "code",
   "execution_count": null,
   "metadata": {},
   "outputs": [],
   "source": []
  }
 ],
 "metadata": {
  "kernelspec": {
   "display_name": "Python 3",
   "language": "python",
   "name": "python3"
  },
  "language_info": {
   "codemirror_mode": {
    "name": "ipython",
    "version": 3
   },
   "file_extension": ".py",
   "mimetype": "text/x-python",
   "name": "python",
   "nbconvert_exporter": "python",
   "pygments_lexer": "ipython3",
   "version": "3.7.4"
  }
 },
 "nbformat": 4,
 "nbformat_minor": 4
}
