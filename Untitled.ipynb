{
 "cells": [
  {
   "cell_type": "code",
   "execution_count": 1,
   "metadata": {},
   "outputs": [],
   "source": [
    "import matplotlib.pyplot as plt\n",
    "import numpy as np\n",
    "import pickle as pkl\n",
    "import os"
   ]
  },
  {
   "cell_type": "code",
   "execution_count": 3,
   "metadata": {},
   "outputs": [],
   "source": [
    "bayesian_results = pkl.load(open('out/ten/results/Bayesian_breakhis_50_50_3.pkl', 'rb'))"
   ]
  },
  {
   "cell_type": "code",
   "execution_count": 9,
   "metadata": {},
   "outputs": [
    {
     "data": {
      "text/plain": [
       "[0.6491228342056274,\n",
       " 0.7092731595039368,\n",
       " 0.8145363330841064,\n",
       " 0.7894737124443054,\n",
       " 0.8446115255355835,\n",
       " 0.8370927572250366,\n",
       " 0.8070175647735596,\n",
       " 0.8070175647735596,\n",
       " 0.8195488452911377,\n",
       " 0.8471177816390991,\n",
       " 0.8446115255355835]"
      ]
     },
     "execution_count": 9,
     "metadata": {},
     "output_type": "execute_result"
    }
   ],
   "source": [
    "random_results[0]"
   ]
  },
  {
   "cell_type": "code",
   "execution_count": 4,
   "metadata": {},
   "outputs": [
    {
     "data": {
      "text/plain": [
       "[0.6491228342056274,\n",
       " 0.38596490025520325,\n",
       " 0.7343358397483826,\n",
       " 0.5889724493026733,\n",
       " 0.7719298005104065,\n",
       " 0.7067669034004211,\n",
       " 0.7969924807548523,\n",
       " 0.8521303534507751,\n",
       " 0.8446115255355835,\n",
       " 0.7769423723220825,\n",
       " 0.8245614171028137,\n",
       " 0.7443609237670898,\n",
       " 0.8496240377426147,\n",
       " 0.7518796920776367,\n",
       " 0.7593985199928284,\n",
       " 0.8120300769805908]"
      ]
     },
     "execution_count": 4,
     "metadata": {},
     "output_type": "execute_result"
    }
   ],
   "source": [
    "bayesian_results[0]"
   ]
  },
  {
   "cell_type": "code",
   "execution_count": 11,
   "metadata": {},
   "outputs": [
    {
     "data": {
      "text/plain": [
       "[0.6315789222717285,\n",
       " 0.7744361162185669,\n",
       " 0.6691729426383972,\n",
       " 0.7268170714378357,\n",
       " 0.8120300769805908,\n",
       " 0.7944862246513367,\n",
       " 0.7719298005104065,\n",
       " 0.8095238208770752,\n",
       " 0.7744361162185669,\n",
       " 0.7844611406326294,\n",
       " 0.8621553778648376]"
      ]
     },
     "execution_count": 11,
     "metadata": {},
     "output_type": "execute_result"
    }
   ],
   "source": [
    "coreset_results[0]"
   ]
  },
  {
   "cell_type": "code",
   "execution_count": 5,
   "metadata": {},
   "outputs": [
    {
     "data": {
      "text/plain": [
       "[<matplotlib.lines.Line2D at 0x7f23c8492a20>]"
      ]
     },
     "execution_count": 5,
     "metadata": {},
     "output_type": "execute_result"
    },
    {
     "data": {
      "image/png": "[encoded data removed]",
      "text/plain": [
       "<Figure size 432x288 with 1 Axes>"
      ]
     },
     "metadata": {
      "needs_background": "light"
     },
     "output_type": "display_data"
    }
   ],
   "source": [
    "plt.figure()\n",
    "# plt.plot(range(len(random_results[0])), random_results[0], 'r')\n",
    "plt.plot(range(len(bayesian_results[0])), bayesian_results[0], 'b')\n",
    "# plt.plot(range(len(coreset_results[0])), coreset_results[0], 'c')"
   ]
  },
  {
   "cell_type": "code",
   "execution_count": null,
   "metadata": {},
   "outputs": [],
   "source": []
  }
 ],
 "metadata": {
  "kernelspec": {
   "display_name": "Python 3",
   "language": "python",
   "name": "python3"
  },
  "language_info": {
   "codemirror_mode": {
    "name": "ipython",
    "version": 3
   },
   "file_extension": ".py",
   "mimetype": "text/x-python",
   "name": "python",
   "nbconvert_exporter": "python",
   "pygments_lexer": "ipython3",
   "version": "3.7.0"
  }
 },
 "nbformat": 4,
 "nbformat_minor": 4
}
